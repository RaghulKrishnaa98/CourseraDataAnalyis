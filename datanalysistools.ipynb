{
 "cells": [
  {
   "cell_type": "markdown",
   "id": "df505ad4-5eba-4e08-91f3-533ba82e5b76",
   "metadata": {},
   "source": [
    "# My Data Science Notebook."
   ]
  },
  {
   "cell_type": "markdown",
   "id": "44b4a66c-90a0-4e09-b5e5-ed28c29e61f3",
   "metadata": {},
   "source": [
    "## Introduction\r\n",
    "This notebook is a final project showcasing various data science tools and techniques\r\n"
   ]
  },
  {
   "cell_type": "markdown",
   "id": "592e58e2-d0a6-4b73-8543-469a5f7d07b9",
   "metadata": {},
   "source": [
    "## Data Science Languages\n",
    "- Python\n",
    "- R\n",
    "- SQL\n",
    "- Julia"
   ]
  },
  {
   "cell_type": "markdown",
   "id": "918cf96f-c381-404f-9a32-d70991fb45dc",
   "metadata": {},
   "source": [
    "## Data Science Libraries\r\n",
    "- NumPy\r\n",
    "- Pandas\r\n",
    "- Matplotlib\r\n",
    "- Scikit-learn\r\n",
    "- TensoFlow\r\n"
   ]
  },
  {
   "cell_type": "markdown",
   "id": "5b0da29b-4b6d-432d-be75-5d81fd6cde3a",
   "metadata": {},
   "source": [
    "## Data Science Tools\n",
    "| Tool         | Purpose                |\n",
    "|--------------|------------------------|\n",
    "| Jupyter      | Interactive notebooks  |\n",
    "| RStudio      | Statistical computing  |\n",
    "| Tableau      | Data visualization     |\n"
   ]
  },
  {
   "cell_type": "markdown",
   "id": "1d289c30-18fe-4727-8b36-1b2747bb829c",
   "metadata": {},
   "source": [
    "## Arithmetic Expression Examples\n",
    "Below are examples of basic arithmetic operations in Python.\n"
   ]
  },
  {
   "cell_type": "code",
   "execution_count": 2,
   "id": "a015c5be-7a42-4677-84ad-58096c98cde8",
   "metadata": {},
   "outputs": [
    {
     "data": {
      "text/plain": [
       "17"
      ]
     },
     "execution_count": 2,
     "metadata": {},
     "output_type": "execute_result"
    }
   ],
   "source": [
    "# Multiplication and Addition Example\n",
    "result = (5 * 3) + 2\n",
    "result"
   ]
  },
  {
   "cell_type": "code",
   "execution_count": 3,
   "id": "e134de8d-3ee6-49c8-9f98-64bafb836d6f",
   "metadata": {},
   "outputs": [
    {
     "data": {
      "text/plain": [
       "2.0"
      ]
     },
     "execution_count": 3,
     "metadata": {},
     "output_type": "execute_result"
    }
   ],
   "source": [
    "# Convert minutes to hours\n",
    "minutes = 120\n",
    "hours = minutes / 60\n",
    "hours"
   ]
  },
  {
   "cell_type": "markdown",
   "id": "3740ab32-d260-4427-aca8-30ab9c53936c",
   "metadata": {},
   "source": [
    "## Objectives\n",
    "1. Learn data science tools.\n",
    "2. Practice coding in Python.\n",
    "3. Share work on GitHub."
   ]
  },
  {
   "cell_type": "markdown",
   "id": "0009d69d-db88-4f2a-98ad-dbd619912870",
   "metadata": {},
   "source": [
    "## Author\r",
    "Raghul Krishnaa Ramesh Kumar\r\n"
   ]
  },
  {
   "cell_type": "code",
   "execution_count": null,
   "id": "8525a267-eb23-48b0-9edb-9e5185bddac9",
   "metadata": {},
   "outputs": [],
   "source": []
  }
 ],
 "metadata": {
  "kernelspec": {
   "display_name": "Python 3 (ipykernel)",
   "language": "python",
   "name": "python3"
  },
  "language_info": {
   "codemirror_mode": {
    "name": "ipython",
    "version": 3
   },
   "file_extension": ".py",
   "mimetype": "text/x-python",
   "name": "python",
   "nbconvert_exporter": "python",
   "pygments_lexer": "ipython3",
   "version": "3.11.8"
  }
 },
 "nbformat": 4,
 "nbformat_minor": 5
}
